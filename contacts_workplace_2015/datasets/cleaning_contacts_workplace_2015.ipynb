{
 "cells": [
  {
   "cell_type": "markdown",
   "source": [
    "# Nettoyage des datasets - Contacts in a workplace in 2015\n",
    "Importation des librairies"
   ],
   "metadata": {
    "collapsed": false
   },
   "id": "a00bad9c80e4bed0"
  },
  {
   "cell_type": "code",
   "execution_count": 13,
   "id": "initial_id",
   "metadata": {
    "collapsed": true,
    "ExecuteTime": {
     "end_time": "2023-11-30T16:10:18.076950Z",
     "start_time": "2023-11-30T16:10:17.958157Z"
    }
   },
   "outputs": [],
   "source": [
    "import pandas as pd"
   ]
  },
  {
   "cell_type": "markdown",
   "source": [
    "Importation des datasets"
   ],
   "metadata": {
    "collapsed": false
   },
   "id": "adc7bb9e8f9c91ff"
  },
  {
   "cell_type": "code",
   "execution_count": 14,
   "outputs": [],
   "source": [
    "# Séparations en colonnes et Renommage des colonnes\n",
    "contacts = pd.read_csv('raw/tij_InVS15.dat', sep=' ', header=None, names=['Duration', 'IDWorker1', 'IDWorker2'])\n",
    "departments = pd.read_csv('raw/metadata_InVS15.txt', sep='\\t', header=None, names=['IDWorker', 'Department'])"
   ],
   "metadata": {
    "collapsed": false,
    "ExecuteTime": {
     "end_time": "2023-11-30T16:10:18.080447Z",
     "start_time": "2023-11-30T16:10:17.961157Z"
    }
   },
   "id": "2cbb5f39f790e249"
  },
  {
   "cell_type": "markdown",
   "source": [
    "Exportation des datasets"
   ],
   "metadata": {
    "collapsed": false
   },
   "id": "ea4ce828b6e36e71"
  },
  {
   "cell_type": "code",
   "execution_count": 15,
   "outputs": [],
   "source": [
    "contacts.to_csv('cleaned/contacts_2015.csv')\n",
    "departments.to_csv('cleaned/departments_2015.csv')"
   ],
   "metadata": {
    "collapsed": false,
    "ExecuteTime": {
     "end_time": "2023-11-30T16:10:18.082507Z",
     "start_time": "2023-11-30T16:10:17.973486Z"
    }
   },
   "id": "b210c6830efe344f"
  }
 ],
 "metadata": {
  "kernelspec": {
   "display_name": "Python 3",
   "language": "python",
   "name": "python3"
  },
  "language_info": {
   "codemirror_mode": {
    "name": "ipython",
    "version": 2
   },
   "file_extension": ".py",
   "mimetype": "text/x-python",
   "name": "python",
   "nbconvert_exporter": "python",
   "pygments_lexer": "ipython2",
   "version": "2.7.6"
  }
 },
 "nbformat": 4,
 "nbformat_minor": 5
}
