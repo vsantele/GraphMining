{
 "cells": [
  {
   "cell_type": "markdown",
   "id": "a00bad9c80e4bed0",
   "metadata": {
    "collapsed": false
   },
   "source": [
    "# Nettoyage des datasets - Contacts in a workplace in 2013\n",
    "Importation des librairies"
   ]
  },
  {
   "cell_type": "code",
   "execution_count": 7,
   "id": "initial_id",
   "metadata": {
    "ExecuteTime": {
     "end_time": "2023-11-30T16:09:49.630399Z",
     "start_time": "2023-11-30T16:09:49.621076Z"
    },
    "collapsed": true
   },
   "outputs": [],
   "source": [
    "import pandas as pd"
   ]
  },
  {
   "cell_type": "markdown",
   "id": "adc7bb9e8f9c91ff",
   "metadata": {
    "collapsed": false
   },
   "source": [
    "Importation des datasets"
   ]
  },
  {
   "cell_type": "code",
   "execution_count": 8,
   "id": "2cbb5f39f790e249",
   "metadata": {
    "ExecuteTime": {
     "end_time": "2023-11-30T16:09:49.635931Z",
     "start_time": "2023-11-30T16:09:49.625897Z"
    },
    "collapsed": false
   },
   "outputs": [],
   "source": [
    "contacts = pd.read_csv('raw/tij_InVS13.dat', sep=' ', header=None, names=['Duration', 'IDWorker1', 'IDWorker2'])\n",
    "departments = pd.read_csv('raw/metadata_InVS13.txt', sep='\\t', header=None, names=['IDWorker', 'Department'])"
   ]
  },
  {
   "cell_type": "markdown",
   "id": "ea4ce828b6e36e71",
   "metadata": {
    "collapsed": false
   },
   "source": [
    "Exportation des datasets"
   ]
  },
  {
   "cell_type": "code",
   "execution_count": 9,
   "id": "b210c6830efe344f",
   "metadata": {
    "ExecuteTime": {
     "end_time": "2023-11-30T16:09:49.646830Z",
     "start_time": "2023-11-30T16:09:49.633979Z"
    },
    "collapsed": false
   },
   "outputs": [],
   "source": [
    "contacts.to_csv('cleaned/contacts_2013.csv')\n",
    "departments.to_csv('cleaned/departments_2013.csv')"
   ]
  }
 ],
 "metadata": {
  "kernelspec": {
   "display_name": "Python 3",
   "language": "python",
   "name": "python3"
  },
  "language_info": {
   "codemirror_mode": {
    "name": "ipython",
    "version": 2
   },
   "file_extension": ".py",
   "mimetype": "text/x-python",
   "name": "python",
   "nbconvert_exporter": "python",
   "pygments_lexer": "ipython2",
   "version": "2.7.6"
  }
 },
 "nbformat": 4,
 "nbformat_minor": 5
}
